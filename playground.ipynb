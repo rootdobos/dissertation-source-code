{
 "cells": [
  {
   "cell_type": "code",
   "execution_count": 2,
   "metadata": {},
   "outputs": [],
   "source": [
    "from preprocessing.tile_extractor import TileExtractor\n",
    "import pandas as pd"
   ]
  },
  {
   "cell_type": "code",
   "execution_count": null,
   "metadata": {},
   "outputs": [],
   "source": [
    "dir=\"F:/data/\"\n",
    "df = pd.read_csv(dir+'train.csv')\n",
    "\n",
    "tile_extractor=TileExtractor(\n",
    "    input_dir=dir,\n",
    "    output_dir=\"F:/test\",\n",
    "    tile_size=512\n",
    ")\n",
    "\n",
    "tile_extractor.process_image(df['image_id'][0],df['data_provider'][0])"
   ]
  },
  {
   "cell_type": "code",
   "execution_count": 3,
   "metadata": {},
   "outputs": [],
   "source": [
    "tile_extractor.process_image(\"4d4ba449d51b491a383e9c80c442cae4\",\n",
    "                             \"karolinska\")"
   ]
  },
  {
   "cell_type": "code",
   "execution_count": 4,
   "metadata": {},
   "outputs": [],
   "source": [
    "tile_extractor.process_image(\"4d7b294147306e72c1cadc1b096b292f\"\n",
    "                             )"
   ]
  },
  {
   "cell_type": "code",
   "execution_count": 1,
   "metadata": {},
   "outputs": [
    {
     "ename": "NameError",
     "evalue": "name 'tile_extractor' is not defined",
     "output_type": "error",
     "traceback": [
      "\u001b[1;31m---------------------------------------------------------------------------\u001b[0m",
      "\u001b[1;31mNameError\u001b[0m                                 Traceback (most recent call last)",
      "\u001b[1;32m~\\AppData\\Local\\Temp/ipykernel_35204/3633002381.py\u001b[0m in \u001b[0;36m<module>\u001b[1;34m\u001b[0m\n\u001b[1;32m----> 1\u001b[1;33m tile_extractor.process_image(\"4d891865079692c7dafac84d6e422bc1\",\n\u001b[0m\u001b[0;32m      2\u001b[0m                              \"radboud\")\n",
      "\u001b[1;31mNameError\u001b[0m: name 'tile_extractor' is not defined"
     ]
    }
   ],
   "source": [
    "tile_extractor.process_image(\"4d891865079692c7dafac84d6e422bc1\",\n",
    "                             \"radboud\")"
   ]
  }
 ],
 "metadata": {
  "kernelspec": {
   "display_name": "Python 3",
   "language": "python",
   "name": "python3"
  },
  "language_info": {
   "codemirror_mode": {
    "name": "ipython",
    "version": 3
   },
   "file_extension": ".py",
   "mimetype": "text/x-python",
   "name": "python",
   "nbconvert_exporter": "python",
   "pygments_lexer": "ipython3",
   "version": "3.9.5"
  }
 },
 "nbformat": 4,
 "nbformat_minor": 2
}
