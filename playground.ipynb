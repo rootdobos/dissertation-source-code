{
 "cells": [
  {
   "cell_type": "code",
   "execution_count": 1,
   "metadata": {},
   "outputs": [],
   "source": [
    "from preprocessing.tile_extractor import TileExtractor\n",
    "import pandas as pd"
   ]
  },
  {
   "cell_type": "code",
   "execution_count": 2,
   "metadata": {},
   "outputs": [],
   "source": [
    "dir=\"F:/data/\"\n",
    "df = pd.read_csv(dir+'train.csv')\n",
    "\n",
    "tile_extractor=TileExtractor(\n",
    "    input_dir=dir,\n",
    "    output_dir=\"F:/test\",\n",
    "    tile_size=512\n",
    ")\n",
    "\n",
    "tile_extractor.process_image(df['image_id'][0])"
   ]
  }
 ],
 "metadata": {
  "kernelspec": {
   "display_name": "Python 3",
   "language": "python",
   "name": "python3"
  },
  "language_info": {
   "codemirror_mode": {
    "name": "ipython",
    "version": 3
   },
   "file_extension": ".py",
   "mimetype": "text/x-python",
   "name": "python",
   "nbconvert_exporter": "python",
   "pygments_lexer": "ipython3",
   "version": "3.9.5"
  }
 },
 "nbformat": 4,
 "nbformat_minor": 2
}
